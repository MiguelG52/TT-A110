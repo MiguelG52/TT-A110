{
 "cells": [
  {
   "cell_type": "code",
   "execution_count": null,
   "metadata": {},
   "outputs": [],
   "source": []
  },
  {
   "cell_type": "code",
   "execution_count": null,
   "metadata": {},
   "outputs": [],
   "source": [
    "import re\n",
    "from dataclasses import dataclass\n",
    "\n",
    "from transformers import RobertaTokenizer, T5ForConditionalGeneration\n",
    "from wordsegment import load, segment\n",
    "\n",
    "load()\n",
    "\n",
    "# Cargar el modelo y el tokenizador desde la carpeta donde se guardo\n",
    "model_path = \"./codet5-fine-tuned\"\n",
    "model = T5ForConditionalGeneration.from_pretrained(model_path)\n",
    "tokenizer = RobertaTokenizer.from_pretrained(model_path)\n",
    "\n",
    "# VARIABLES GLOBALES\n",
    "# Expresion regular para declaraciones de clase\n",
    "ClassStarter = r\"\\b(public|protected|private|static|final|abstract|strictfp)?\\s*class\\s+([a-zA-Z_][a-zA-Z0-9_]*)\\s*\\{\"\n",
    "# Expresion regular para declaraciones de metodos\n",
    "MetodStarter = r\"\\b(public|protected|private|static|final|synchronized|native|abstract|default|strictfp)?\\s*([a-zA-Z_][a-zA-Z0-9_]*\\s+)+([a-zA-Z_][a-zA-Z0-9_]*)\\s*\\([^)]*\\)\\s*(throws\\s+[a-zA-Z_][a-zA-Z0-9_]*(\\s*,\\s*[a-zA-Z_][a-zA-Z0-9_]*)*)?\\s*\\{?\"\n",
    "# Expresión regular para declaraciones de variables\n",
    "regex = r\"\\b(public|protected|private|static|final|synchronized|volatile|transient)?\\s*(byte|short|int|long|float|double|char|boolean|String|[a-zA-Z_][a-zA-Z0-9_]*|[a-zA-Z_][a-zA-Z0-9_]*\\s*\\[\\])\\s+([a-zA-Z_][a-zA-Z0-9_]*)(\\s*=\\s*[^;]*)?;\\s*\"\n",
    "\n",
    "\n",
    "def GenerateSuggestedName(code: str, type_label=\"Clase\", is_correct=\"true\") -> str:\n",
    "    \"\"\"Genera un nombre sugerido para el código dado de acuerdo a si es clase, metodo o variable\n",
    "\n",
    "    Args:\n",
    "        code (str): Código Java del que se quiere obtener una sugerencia.\n",
    "        type_lavel (str): Parte del código al que se le quiere asignar un nombre (Clase, Método, Variable). Default Clase.\n",
    "        is_correct (str): Bandera que se uso en el entrenamiento para diferenciar del nombre correcto del incorrecto. Default true.\n",
    "\n",
    "    Returns:\n",
    "        str: El nombre sugerido por la red neuronal\n",
    "    \"\"\"\n",
    "    input_text = f\"Generate name [type: {type_label}, correct: {is_correct}]: {code}\"\n",
    "    input_ids = tokenizer(\n",
    "        input_text, return_tensors=\"pt\", max_length=512, truncation=True\n",
    "    ).input_ids\n",
    "\n",
    "    # Generar la predicción\n",
    "    output_ids = model.generate(input_ids, max_length=20, num_return_sequences=1)\n",
    "    suggested_name = tokenizer.decode(output_ids[0], skip_special_tokens=True)\n",
    "\n",
    "    return suggested_name\n",
    "\n",
    "\n",
    "# @dataclass(slots=True)\n",
    "# class Sugerencia:\n",
    "#     java_code:str\n",
    "\n",
    "\n",
    "def IsCamellCase(word: str) -> bool:\n",
    "    \"\"\"Función para determinar si la case ya esta en formato camell case, de ser así retorna un True\n",
    "\n",
    "    Args:\n",
    "        word (str): Nombre de la clase o el método\n",
    "\n",
    "    Returns:\n",
    "        bool: Valor booleano acorde a si es cammel case o no\n",
    "    \"\"\"\n",
    "    word = word.strip()\n",
    "\n",
    "    # Bloque try except porque  con palabras unicas falla\n",
    "    try:\n",
    "        sep = segment(word)\n",
    "    except ValueError:\n",
    "        sep = word\n",
    "\n",
    "    if isinstance(sep, list):\n",
    "        final = \"\".join(\n",
    "            [\n",
    "                item.capitalize() if index != 0 else item\n",
    "                for index, item in enumerate(sep)\n",
    "            ]\n",
    "        )\n",
    "        final = final.strip()\n",
    "\n",
    "        return final == word\n",
    "\n",
    "        # if final.strip() == word:\n",
    "        #     return True\n",
    "        # elif final.strip() != word:\n",
    "        #     return False\n",
    "\n",
    "\n",
    "def toCamellCase(w: str) -> str:\n",
    "    \"\"\"Función para convertir cualquier nombre de clase a cammel case\n",
    "\n",
    "    Args:\n",
    "        word (str): Nombre de la clase a pasar a cammel case\n",
    "\n",
    "    Returns:\n",
    "        str: El nombre de la clase en convención camell case\n",
    "    \"\"\"\n",
    "    word = w.strip()\n",
    "\n",
    "    try:\n",
    "        sep = segment(word)\n",
    "    except ValueError:\n",
    "        sep = word\n",
    "\n",
    "    if isinstance(sep, list):\n",
    "        return \"\".join(\n",
    "            [\n",
    "                item.capitalize() if index != 0 else item\n",
    "                for index, item in enumerate(sep)\n",
    "            ]\n",
    "        )\n",
    "\n",
    "    return None\n",
    "\n",
    "\n",
    "def getClassName(text: str) -> str:\n",
    "    \"\"\"Funcion para obtener el nombre de la clase, es decir para obtener como ha nombrado la clase\n",
    "\n",
    "    Args:\n",
    "        text (str): Código java\n",
    "\n",
    "    Returns:\n",
    "        str: Nombre de la clase del código java\n",
    "    \"\"\"\n",
    "\n",
    "    for match in re.finditer(pattern=ClassStarter, string=text):\n",
    "        # className = match.group()\n",
    "        startPos = match.start()\n",
    "        endPos = match.end()\n",
    "        className = re.findall(pattern=ClassStarter, string=text)\n",
    "        if len(className) >= 1:\n",
    "            # className =\n",
    "            return className[0][1].strip(), [startPos, endPos]\n",
    "\n",
    "    return None\n",
    "\n",
    "\n",
    "def checkClassName(java_code: str) -> str:\n",
    "    \"\"\"Función que checha si el nombre que se le asignó a la clase esta en convensión CamellCase\n",
    "\n",
    "    Args:\n",
    "        java_code (str): _description_\n",
    "\n",
    "    Returns:\n",
    "        str: _description_\n",
    "    \"\"\"\n",
    "    tupleClass = getClassName(text=java_code)\n",
    "    flag = IsCamellCase(word=tupleClass[0])\n",
    "    suggest_name = GenerateSuggestedName(code=java_code)\n",
    "\n",
    "    flag_2 = IsCamellCase(word=suggest_name)\n",
    "    if not flag_2:\n",
    "        suggest_name = toCamellCase(w=suggest_name)\n",
    "\n",
    "    if not flag:\n",
    "        string = (\n",
    "            java_code[: tupleClass[1][1]]\n",
    "            + f\"  // Recuerda que {tupleClass[0]} debe ir con Cammel Case\"\n",
    "            + java_code[tupleClass[1][1] :]\n",
    "        )\n",
    "\n",
    "        if suggest_name != tupleClass[0]:\n",
    "            string = (\n",
    "                java_code[: tupleClass[1][1]]\n",
    "                + f\"  // Recuerda que {tupleClass[0]} debe ir con Cammel Case y un mejor nombre sería {suggest_name}\"\n",
    "                + java_code[tupleClass[1][1] :]\n",
    "            )\n",
    "            return string\n",
    "\n",
    "        return string\n",
    "        # print(string)\n",
    "    else:\n",
    "        if suggest_name != tupleClass[0]:\n",
    "            strin = (\n",
    "                java_code[: tupleClass[1][1]]\n",
    "                + f\"  // Un mejor nombre sería {suggest_name}\"\n",
    "                + java_code[tupleClass[1][1] :]\n",
    "            )\n",
    "            return strin\n",
    "        return java_code\n",
    "\n",
    "\n",
    "def getPositionMethod(text: str) -> dict:\n",
    "    typeData = [\n",
    "        \"public\",\n",
    "        \"protected\",\n",
    "        \"private\",\n",
    "        \"static\",\n",
    "        \"final\",\n",
    "        \"synchronized\",\n",
    "        \"native\",\n",
    "        \"abstract\",\n",
    "        \"default\",\n",
    "        \"strictfp\",\n",
    "    ]\n",
    "    positions = dict()\n",
    "\n",
    "    for index, match in enumerate(re.finditer(MetodStarter, text)):\n",
    "        metodo = match.group()\n",
    "        start_pos = match.start()\n",
    "        end_pos = match.end()\n",
    "\n",
    "        for data in typeData:\n",
    "            if data in metodo:\n",
    "                positions[index] = [start_pos, end_pos, metodo.index(data)]\n",
    "                # print(f\"Se encontró {metodo}, en {start_pos}-{end_pos}\")\n",
    "                break\n",
    "\n",
    "    return positions"
   ]
  },
  {
   "cell_type": "code",
   "execution_count": 209,
   "metadata": {},
   "outputs": [],
   "source": [
    "java_code = \"\"\"\n",
    "import java.util.Scanner;\n",
    "\n",
    "public class Calculator {\n",
    "    public static void main(String[] args) {\n",
    "        Scanner scanner = new Scanner(System.in);\n",
    "\n",
    "        System.out.println(\"Enter first number: \");\n",
    "        double num1 = scanner.nextDouble();\n",
    "\n",
    "        System.out.println(\"Enter an operator (+, -, *, /): \");\n",
    "        char operator = scanner.next().charAt(0);\n",
    "\n",
    "        System.out.println(\"Enter second number: \");\n",
    "        double num2 = scanner.nextDouble();\n",
    "\n",
    "        double result;\n",
    "\n",
    "        switch (operator) {\n",
    "            case '+':\n",
    "                result = num1 + num2;\n",
    "                break;\n",
    "            case '-':\n",
    "                result = num1 - num2;\n",
    "                break;\n",
    "            case '*':\n",
    "                result = num1 * num2;\n",
    "                break;\n",
    "            case '/':\n",
    "                if (num2 != 0) {\n",
    "                    result = num1 / num2;\n",
    "                } else {\n",
    "                    System.out.println(\"Error! Division by zero.\");\n",
    "                    return;\n",
    "                }\n",
    "                break;\n",
    "            default:\n",
    "                System.out.println(\"Error! Invalid operator.\");\n",
    "                return;\n",
    "        }\n",
    "\n",
    "        System.out.println(\"The result is: \" + result);\n",
    "    }\n",
    "}\n",
    "\n",
    "\"\"\""
   ]
  },
  {
   "cell_type": "code",
   "execution_count": 228,
   "metadata": {},
   "outputs": [],
   "source": [
    "java_code = \"\"\"\n",
    "// Java program for simple calculator\n",
    "import java.io.*;\n",
    "import java.lang.*;\n",
    "import java.lang.Math;\n",
    "import java.util.Scanner;\n",
    " \n",
    "// Driver class\n",
    "public class math {\n",
    "    // main function\n",
    "    public static void main(String[] args)\n",
    "    {\n",
    "        // Stores two numbers\n",
    "        double num1, num2;\n",
    " \n",
    "        // Take input from the user\n",
    "        Scanner sc = new Scanner(System.in);\n",
    " \n",
    "        System.out.println(\"Enter the numbers:\");\n",
    " \n",
    "        // Take the inputs\n",
    "        num1 = sc.nextDouble();\n",
    "        num2 = sc.nextDouble();\n",
    " \n",
    "        System.out.println(\"Enter the operator (+,-,*,/):\");\n",
    " \n",
    "        char op = sc.next().charAt(0);\n",
    "        double o = 0;\n",
    " \n",
    "        switch (op) {\n",
    "        // case to add two numbers\n",
    "        case '+':\n",
    "            o = num1 + num2;\n",
    "            break;\n",
    " \n",
    "        // case to subtract two numbers\n",
    "        case '-':\n",
    "            o = num1 - num2;\n",
    "            break;\n",
    " \n",
    "        // case to multiply two numbers\n",
    "        case '*':\n",
    "            o = num1 * num2;\n",
    "            break;\n",
    " \n",
    "        // case to divide two numbers\n",
    "        case '/':\n",
    "            o = num1 / num2;\n",
    "            break;\n",
    " \n",
    "        default:\n",
    "            System.out.println(\"You enter wrong input\");\n",
    "        }\n",
    " \n",
    "        System.out.println(\"The final result:\");\n",
    "        System.out.println();\n",
    " \n",
    "        // print the final result\n",
    "        System.out.println(num1 + \" \" + op + \" \" + num2\n",
    "                           + \" = \" + o);\n",
    "    }\n",
    "}\n",
    "\"\"\""
   ]
  },
  {
   "cell_type": "code",
   "execution_count": null,
   "metadata": {},
   "outputs": [],
   "source": [
    "java_code = checkClassName(java_code=java_code)"
   ]
  },
  {
   "cell_type": "code",
   "execution_count": 230,
   "metadata": {},
   "outputs": [
    {
     "name": "stdout",
     "output_type": "stream",
     "text": [
      "Se encontró main function\n",
      "    public static void main(String[] args)\n",
      "    {, en 171-233\n"
     ]
    },
    {
     "data": {
      "text/plain": [
       "{0: [171, 233, 18]}"
      ]
     },
     "execution_count": 230,
     "metadata": {},
     "output_type": "execute_result"
    }
   ],
   "source": [
    "getPositionMethod(text=java_code)"
   ]
  },
  {
   "cell_type": "code",
   "execution_count": null,
   "metadata": {},
   "outputs": [],
   "source": []
  },
  {
   "cell_type": "code",
   "execution_count": 93,
   "metadata": {},
   "outputs": [],
   "source": [
    "def getMethodNames(text: str) -> list:\n",
    "    matches = re.findall(pattern=MetodStarter, string=text)\n",
    "    return matches\n"
   ]
  },
  {
   "cell_type": "code",
   "execution_count": 226,
   "metadata": {},
   "outputs": [
    {
     "data": {
      "text/plain": [
       "[('', 'void ', 'main', '', ''),\n",
       " ('', 'new ', 'Scanner', '', ''),\n",
       " ('', 'the ', 'operator', '', '')]"
      ]
     },
     "execution_count": 226,
     "metadata": {},
     "output_type": "execute_result"
    }
   ],
   "source": [
    "coincidencias = getMethodNames(java_code)\n",
    "coincidencias"
   ]
  },
  {
   "cell_type": "code",
   "execution_count": null,
   "metadata": {},
   "outputs": [],
   "source": []
  },
  {
   "cell_type": "code",
   "execution_count": 120,
   "metadata": {},
   "outputs": [],
   "source": [
    "# # Expresión regular ajustada\n",
    "# # regex = r\"\\b(public|protected|private|static|final|synchronized|native|abstract|default|strictfp)?\\s*([a-zA-Z_][a-zA-Z0-9_]*\\s+)+([a-zA-Z_][a-zA-Z0-9_]*)\\s*\\([^)]*\\)\\s*(throws\\s+[a-zA-Z_][a-zA-Z0-9_]*(\\s*,\\s*[a-zA-Z_][a-zA-Z0-9_]*)*)?\\s*\\{?\"\n",
    "# posiciones = dict()\n",
    "\n",
    "# # Buscar coincidencias\n",
    "# for index, match in enumerate(re.finditer(MetodStarter, java_code)):\n",
    "#     metodo = match.group()\n",
    "#     start_pos = match.start()  # Posición de inicio de la coincidencia\n",
    "#     end_pos = match.end()  # Posición de fin de la coincidencia\n",
    "#     # print(f\"Método encontrado: '{metodo}' en la posición: {start_pos}-{end_pos}\")\n",
    "#     for data in typeData:\n",
    "#         if data in metodo:\n",
    "#             # print(f\"{data} encontrado en {metodo.index(data)}:\\n{java_code[start_pos:end_pos]}\")\n",
    "#             # start_2 = metodo.index(data)\n",
    "#             # if start_2 == 0:\n",
    "#             posiciones[index] = [start_pos, end_pos]\n",
    "\n",
    "#             break\n",
    "#         else:\n",
    "#             print(\"Else\")"
   ]
  },
  {
   "cell_type": "code",
   "execution_count": 126,
   "metadata": {},
   "outputs": [],
   "source": [
    "posiciones = getPositionMethod(java_code)"
   ]
  },
  {
   "cell_type": "code",
   "execution_count": 127,
   "metadata": {},
   "outputs": [
    {
     "data": {
      "text/plain": [
       "{0: [144, 213, 28],\n",
       " 1: [291, 335, 17],\n",
       " 2: [370, 408, 0],\n",
       " 3: [450, 472, 0],\n",
       " 4: [505, 536, 0],\n",
       " 5: [608, 640, 5]}"
      ]
     },
     "execution_count": 127,
     "metadata": {},
     "output_type": "execute_result"
    }
   ],
   "source": [
    "posiciones"
   ]
  },
  {
   "cell_type": "code",
   "execution_count": null,
   "metadata": {},
   "outputs": [
    {
     "data": {
      "text/plain": [
       "'public Persona(String nombre, int edad) {'"
      ]
     },
     "execution_count": 128,
     "metadata": {},
     "output_type": "execute_result"
    }
   ],
   "source": [
    "java_code[144 + 28 : 213]"
   ]
  },
  {
   "cell_type": "code",
   "execution_count": 133,
   "metadata": {},
   "outputs": [
    {
     "data": {
      "text/plain": [
       "'mostrarInfo'"
      ]
     },
     "execution_count": 133,
     "metadata": {},
     "output_type": "execute_result"
    }
   ],
   "source": [
    "GenerateSuggestedName(code=java_code)"
   ]
  }
 ],
 "metadata": {
  "kernelspec": {
   "display_name": "tt_env",
   "language": "python",
   "name": "python3"
  },
  "language_info": {
   "codemirror_mode": {
    "name": "ipython",
    "version": 3
   },
   "file_extension": ".py",
   "mimetype": "text/x-python",
   "name": "python",
   "nbconvert_exporter": "python",
   "pygments_lexer": "ipython3",
   "version": "3.12.9"
  }
 },
 "nbformat": 4,
 "nbformat_minor": 2
}
